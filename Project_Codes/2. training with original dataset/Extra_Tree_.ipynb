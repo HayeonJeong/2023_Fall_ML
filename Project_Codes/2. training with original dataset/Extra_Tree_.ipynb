{
 "cells": [
  {
   "cell_type": "markdown",
   "id": "ad928f26",
   "metadata": {},
   "source": [
    "# Extra_Tree"
   ]
  },
  {
   "cell_type": "code",
   "execution_count": 1,
   "id": "c9373c34",
   "metadata": {},
   "outputs": [],
   "source": [
    "import numpy as np\n",
    "from sklearn.datasets import fetch_openml\n",
    "from sklearn.ensemble import ExtraTreesClassifier\n",
    "from sklearn.model_selection import GridSearchCV\n",
    "from sklearn.model_selection import train_test_split\n",
    "from sklearn.metrics import accuracy_score\n",
    "from sklearn import datasets\n",
    "\n",
    "# MNIST 데이터 로드\n",
    "mnist = datasets.load_digits()\n",
    "X = mnist.data\n",
    "y = mnist.target"
   ]
  },
  {
   "cell_type": "code",
   "execution_count": 2,
   "id": "4592bf38",
   "metadata": {},
   "outputs": [],
   "source": [
    "# 픽셀 값 정규화\n",
    "X /= 255.0"
   ]
  },
  {
   "cell_type": "code",
   "execution_count": 3,
   "id": "2fc24928",
   "metadata": {},
   "outputs": [],
   "source": [
    "# 훈련, 테스트 셋으로 나눠줌\n",
    "X_train, X_test, y_train, y_test = train_test_split(X, y, test_size=0.2, random_state=42)"
   ]
  },
  {
   "cell_type": "code",
   "execution_count": 8,
   "id": "7fc9e117",
   "metadata": {},
   "outputs": [
    {
     "name": "stderr",
     "output_type": "stream",
     "text": [
      "C:\\Users\\Altair\\anaconda3\\Lib\\site-packages\\sklearn\\model_selection\\_validation.py:425: FitFailedWarning: \n",
      "900 fits failed out of a total of 5400.\n",
      "The score on these train-test partitions for these parameters will be set to nan.\n",
      "If these failures are not expected, you can try to debug them by setting error_score='raise'.\n",
      "\n",
      "Below are more details about the failures:\n",
      "--------------------------------------------------------------------------------\n",
      "900 fits failed with the following error:\n",
      "Traceback (most recent call last):\n",
      "  File \"C:\\Users\\Altair\\anaconda3\\Lib\\site-packages\\sklearn\\model_selection\\_validation.py\", line 732, in _fit_and_score\n",
      "    estimator.fit(X_train, y_train, **fit_params)\n",
      "  File \"C:\\Users\\Altair\\anaconda3\\Lib\\site-packages\\sklearn\\base.py\", line 1144, in wrapper\n",
      "    estimator._validate_params()\n",
      "  File \"C:\\Users\\Altair\\anaconda3\\Lib\\site-packages\\sklearn\\base.py\", line 637, in _validate_params\n",
      "    validate_parameter_constraints(\n",
      "  File \"C:\\Users\\Altair\\anaconda3\\Lib\\site-packages\\sklearn\\utils\\_param_validation.py\", line 95, in validate_parameter_constraints\n",
      "    raise InvalidParameterError(\n",
      "sklearn.utils._param_validation.InvalidParameterError: The 'max_depth' parameter of ExtraTreesClassifier must be an int in the range [1, inf) or None. Got 0 instead.\n",
      "\n",
      "  warnings.warn(some_fits_failed_message, FitFailedWarning)\n",
      "C:\\Users\\Altair\\anaconda3\\Lib\\site-packages\\sklearn\\model_selection\\_search.py:976: UserWarning: One or more of the test scores are non-finite: [       nan        nan        nan ... 0.97146971 0.97216657 0.97216657]\n",
      "  warnings.warn(\n"
     ]
    },
    {
     "name": "stdout",
     "output_type": "stream",
     "text": [
      "Best Parameters:  {'criterion': 'gini', 'max_depth': 30, 'min_samples_leaf': 1, 'min_samples_split': 2, 'n_estimators': 250}\n",
      "Best Model Accuracy on Test Set:  0.9805555555555555\n"
     ]
    }
   ],
   "source": [
    "# Initialize Extra Trees Classifier\n",
    "extra_trees = ExtraTreesClassifier(random_state=42)\n",
    "param_grid = {\n",
    "    'n_estimators': range (50,350,50),\n",
    "    'criterion': ['gini', 'entropy'],\n",
    "    'max_depth': range (0,60,10),\n",
    "    'min_samples_split': range (2,12,2),\n",
    "    'min_samples_leaf': [1, 2, 4],\n",
    "}\n",
    "# Create the GridSearchCV object\n",
    "grid_search = GridSearchCV(extra_trees, param_grid, cv=5, scoring='accuracy', n_jobs=-1)\n",
    "\n",
    "# Fit the GridSearchCV object to the data\n",
    "grid_search.fit(X_train, y_train)\n",
    "\n",
    "# Get the best parameters and the best estimator\n",
    "best_params = grid_search.best_params_\n",
    "best_estimator = grid_search.best_estimator_\n",
    "\n",
    "# Evaluate the best estimator on the test set\n",
    "accuracy = best_estimator.score(X_test, y_test)\n",
    "\n",
    "print(\"Best Parameters: \", best_params)\n",
    "print(\"Best Model Accuracy on Test Set: \", accuracy)"
   ]
  }
 ],
 "metadata": {
  "kernelspec": {
   "display_name": "Python 3 (ipykernel)",
   "language": "python",
   "name": "python3"
  },
  "language_info": {
   "codemirror_mode": {
    "name": "ipython",
    "version": 3
   },
   "file_extension": ".py",
   "mimetype": "text/x-python",
   "name": "python",
   "nbconvert_exporter": "python",
   "pygments_lexer": "ipython3",
   "version": "3.11.4"
  }
 },
 "nbformat": 4,
 "nbformat_minor": 5
}
