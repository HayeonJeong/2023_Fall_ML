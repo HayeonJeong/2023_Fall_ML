{
 "cells": [
  {
   "cell_type": "code",
   "execution_count": null,
   "metadata": {},
   "outputs": [
    {
     "ename": "",
     "evalue": "",
     "output_type": "error",
     "traceback": [
      "\u001b[1;31m'/usr/local/bin/python3.12'(으)로 셀을 실행하려면 ipykernel 패키지가 필요합니다.\n",
      "\u001b[1;31m다음 명령어를 실행하여 Python 환경에 'ipykernel'을(를) 설치합니다. \n",
      "\u001b[1;31m 명령: '/usr/local/bin/python3.12 -m pip install ipykernel -U --user --force-reinstall'"
     ]
    }
   ],
   "source": [
    "# Keras 라이브러리 불러오기\n",
    "# MNIST Dataset을 가져오기 위한 라이브러리\n",
    "from keras.datasets import mnist\n",
    "# 딥 러닝 모델을 순차적으로 만들기 위한 라이브러리\n",
    "from keras.models import Sequential\n",
    "from keras.models import Model\n",
    "# Dense : MLP층, Activation : 활성화 함수\n",
    "from keras.layers import Activation, Dense\n",
    "import numpy as np # 행렬 계산을 위한 넘파이 라이브러리\n",
    "import matplotlib.pyplot as plt # 그래프를 그리기 위한 MatPlotLib 라이브러리\n",
    "from PIL import Image # MatPlotLib 라이브러리와 같이 이미지 처리를 위한 Image 라이브러리\n",
    "\n",
    "# Dataset 구성\n",
    "# MNIST Dataset이 저장되어 있는 어딘가에서 MNIST Dataset을 가져옵니다\n",
    "# _ : 가져온 값을 저장하지 않을 때 사용, DAE는 y값 (Label) 이 필요 없습니다.\n",
    "(x_train, _), (x_test, _) = mnist.load_data() \n",
    "# Dataset 전처리\n",
    "# 픽셀 값을 0~255 범위에서 0~1 범위로 낮춰줍니다 / 오차 값을 적절한 범위에 맞추기 위함\n",
    "# astype('float32') : int(정수)를 float(실수)로 바꾸어줍니다.\n",
    "x_train = x_train.reshape(60000, 784).astype('float32') / 255.0\n",
    "x_test = x_test.reshape(10000, 784).astype('float32') / 255.0\n",
    "print('x_train :', np.shape(x_train))\n",
    "\n"
   ]
  },
  {
   "cell_type": "code",
   "execution_count": null,
   "metadata": {},
   "outputs": [],
   "source": []
  },
  {
   "cell_type": "code",
   "execution_count": null,
   "metadata": {},
   "outputs": [
    {
     "ename": "",
     "evalue": "",
     "output_type": "error",
     "traceback": [
      "\u001b[1;31m'/usr/local/bin/python3.12'(으)로 셀을 실행하려면 ipykernel 패키지가 필요합니다.\n",
      "\u001b[1;31m다음 명령어를 실행하여 Python 환경에 'ipykernel'을(를) 설치합니다. \n",
      "\u001b[1;31m 명령: '/usr/local/bin/python3.12 -m pip install ipykernel -U --user --force-reinstall'"
     ]
    }
   ],
   "source": [
    "# 정규 분포로 생성된 노이즈를 원래 이미지에 더하여 노이즈가 낀 데이터를 생성합니다\n",
    "# 노이즈는 평균 0.5, 표준편차 0.5 의 정규 분포로 생성됩니다\n",
    "np.random.seed(1337) # 랜덤 값을 만들어주기 위한 seed\n",
    "# Training Dataset에 대한 노이즈 낀 Dataset 생성\n",
    "noise = np.random.normal(loc=0.5, scale=0.5, size=x_train.shape)\n",
    "x_train_noisy = x_train + noise\n",
    "# Test Dataset에 대한 노이즈 낀 Dataset 생성\n",
    "noise = np.random.normal(loc=0.5, scale=0.5, size=x_test.shape)\n",
    "x_test_noisy = x_test + noise\n",
    "# 노이즈 낀 Dataset의 각 픽셀 값이 1을 넘으면 1로, 0보다 작으면 0으로 해줍니다\n",
    "x_train_noisy = np.clip(x_train_noisy, 0., 1.)\n",
    "x_test_noisy = np.clip(x_test_noisy, 0., 1.)"
   ]
  },
  {
   "cell_type": "code",
   "execution_count": null,
   "metadata": {},
   "outputs": [
    {
     "ename": "",
     "evalue": "",
     "output_type": "error",
     "traceback": [
      "\u001b[1;31m'/usr/local/bin/python3.12'(으)로 셀을 실행하려면 ipykernel 패키지가 필요합니다.\n",
      "\u001b[1;31m다음 명령어를 실행하여 Python 환경에 'ipykernel'을(를) 설치합니다. \n",
      "\u001b[1;31m 명령: '/usr/local/bin/python3.12 -m pip install ipykernel -U --user --force-reinstall'"
     ]
    }
   ],
   "source": [
    "# Encoder 모델 구성\n",
    "encoder = Sequential(name=\"Encoder\")\n",
    "encoder.add(Dense(256, input_shape = [28*28], activation='relu'))\n",
    "encoder.add(Dense(128, activation='relu'))\n",
    "encoder.add(Dense(64, activation='relu'))\n",
    "encoder.add(Dense(16, activation='relu'))\n",
    "encoder.add(Dense(4, activation='relu'))\n",
    "encoder.add(Dense(2))\n",
    "encoder.summary() # Encoder 모델 구조 확인\n",
    "# Decoder 모델 구성\n",
    "decoder = Sequential(name=\"Decoder\")\n",
    "decoder.add(Dense(4, input_shape = [2], activation='relu'))\n",
    "decoder.add(Dense(16, activation='relu'))\n",
    "decoder.add(Dense(64, activation='relu'))\n",
    "decoder.add(Dense(128, activation='relu'))\n",
    "decoder.add(Dense(256, activation='relu'))\n",
    "decoder.add(Dense(784, activation='relu'))\n",
    "decoder.summary() # Decoder 모델 구조 확인\n",
    "# 두 모델을 합쳐 하나의 새로운 모델을 만들 수 있습니다\n",
    "# Autoencoder = Encoder + Decoder\n",
    "autoencoder = Sequential(name=\"Autoencoder\")\n",
    "autoencoder.add(encoder)\n",
    "autoencoder.add(decoder)\n",
    "# 위와 동일 코드:\n",
    "# autoencoder = Model(inputs, decoder(encoder(inputs)), name='autoencoder')\n",
    "autoencoder.summary()"
   ]
  },
  {
   "cell_type": "code",
   "execution_count": null,
   "metadata": {},
   "outputs": [
    {
     "ename": "",
     "evalue": "",
     "output_type": "error",
     "traceback": [
      "\u001b[1;31m'/usr/local/bin/python3.12'(으)로 셀을 실행하려면 ipykernel 패키지가 필요합니다.\n",
      "\u001b[1;31m다음 명령어를 실행하여 Python 환경에 'ipykernel'을(를) 설치합니다. \n",
      "\u001b[1;31m 명령: '/usr/local/bin/python3.12 -m pip install ipykernel -U --user --force-reinstall'"
     ]
    }
   ],
   "source": [
    "# 모델 학습 과정을 설정합니다\n",
    "# loss는 목적 함수를 의미하며, 회귀 문제이므로 MSE를 사용합니다\n",
    "# optimizer는 학습 방법을 의미하며, 너무 느린 SGD 대신에 Adam을 사용합니다\n",
    "# metrics는 학습 도중 화면에 어떤 값을 띄울까를 결정합니다\n",
    "autoencoder.compile(loss='mse', optimizer='adam')\n",
    "\n",
    "# Autoencoder 모델을 학습시킵니다\n",
    "autoencoder.fit(x_train_noisy, x_train, # 입력 : 노이즈 낀 데이터 / 출력 : 기존 데이터\n",
    "                validation_data=(x_test_noisy, x_test), # Validation을 Test dataset으로 해줍니다 \n",
    "                epochs=20, # Epoch 수 설정\n",
    "                batch_size=64 # Mini-batch 크기 설정\n",
    "                )"
   ]
  },
  {
   "cell_type": "code",
   "execution_count": null,
   "metadata": {},
   "outputs": [
    {
     "ename": "",
     "evalue": "",
     "output_type": "error",
     "traceback": [
      "\u001b[1;31m'/usr/local/bin/python3.12'(으)로 셀을 실행하려면 ipykernel 패키지가 필요합니다.\n",
      "\u001b[1;31m다음 명령어를 실행하여 Python 환경에 'ipykernel'을(를) 설치합니다. \n",
      "\u001b[1;31m 명령: '/usr/local/bin/python3.12 -m pip install ipykernel -U --user --force-reinstall'"
     ]
    }
   ],
   "source": [
    "# 실제로 사용해봅시다\n",
    "# 노이즈 낀 데이터로부터 출력을 받습니다\n",
    "x_decoded = autoencoder.predict(x_test_noisy)\n",
    "# Display the 1st 8 corrupted and denoised images\n",
    "rows, cols = 10, 30\n",
    "num = rows * cols\n",
    "# 원본 / 노이즈 추가 / 모델 출력 300장씩 이어붙이기 (900 * 784)\n",
    "imgs = np.concatenate([x_test[:num], x_test_noisy[:num], x_decoded[:num]])\n",
    "print(np.shape(imgs))\n",
    "# 784 -> 28 * 28 / 900 -> 30 * 30 (30 * 30 * 28 * 28)\n",
    "imgs = imgs.reshape((rows * 3, cols, 28, 28))\n",
    "print(np.shape(imgs))\n",
    "# 30 * 30 -> 300 * 3\n",
    "# split : axis (0, 1, 2, ...)에 따라 rows(10)개로 나눔 (30 * 10 * 3 * 28 * 28)\n",
    "# vstack : 맨 앞 차원으로 이어붙힘 (300 * 3 * 28 * 28)\n",
    "# => 원본 / 노이즈 / 출력을 한줄씩 번갈아 나오게 한다\n",
    "imgs = np.vstack(np.split(imgs, rows, axis=1))\n",
    "print(np.shape(imgs))\n",
    "# (300 * 3 * 28 * 28) -> (30 * 30 * 28 * 28)\n",
    "imgs = imgs.reshape((rows * 3, -1, 28, 28))\n",
    "print(np.shape(imgs))\n",
    "# 이미지 출력을 위해 차원수를 2로 줄여준다\n",
    "# (30 * 30 * 28 * 28) -> (840, 840)\n",
    "imgs = np.vstack([np.hstack(i) for i in imgs])\n",
    "print(np.shape(imgs))\n",
    "# 0 ~ 1 => 0 ~ 255 / 실수 => 정수\n",
    "imgs = (imgs * 255).astype(np.uint8)\n",
    "plt.rcParams[\"figure.figsize\"] = (20,20) # 출력할 이미지 크기 설정\n",
    "plt.figure()\n",
    "plt.axis('off') # 축을 안보이게 한다\n",
    "# 출력 된 이미지 제목 설정, 이미지 위에 나타난다\n",
    "plt.title('Original images: top rows, '\n",
    "          'Corrupted Input: middle rows, '\n",
    "          'Denoised Input:  third rows')\n",
    "# 이미지를 흑백(cmap='gray')으로 출력한다\n",
    "plt.imshow(imgs, interpolation='none', cmap='gray')\n",
    "plt.show() # 이미지 출력"
   ]
  }
 ],
 "metadata": {
  "kernelspec": {
   "display_name": "Python 3",
   "language": "python",
   "name": "python3"
  },
  "language_info": {
   "codemirror_mode": {
    "name": "ipython",
    "version": 3
   },
   "file_extension": ".py",
   "mimetype": "text/x-python",
   "name": "python",
   "nbconvert_exporter": "python",
   "pygments_lexer": "ipython3",
   "version": "3.12.0 (main, Oct  5 2023, 15:48:48) [Clang 14.0.0 (clang-1400.0.29.202)]"
  },
  "orig_nbformat": 4,
  "vscode": {
   "interpreter": {
    "hash": "f1062708a37074d70712b695aadee582e0b0b9f95f45576b5521424137d05fec"
   }
  }
 },
 "nbformat": 4,
 "nbformat_minor": 2
}
